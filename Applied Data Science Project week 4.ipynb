{
 "cells": [
  {
   "cell_type": "markdown",
   "metadata": {},
   "source": [
    "# Applied Data Science Course Final Project by Rahul Bansal"
   ]
  },
  {
   "cell_type": "markdown",
   "metadata": {},
   "source": [
    "## Introduction"
   ]
  },
  {
   "cell_type": "markdown",
   "metadata": {},
   "source": [
    "The purpose of this notebook is to help people in exploring options for similar or different types of restaurants, food places, cafes, etc. and also to help investers. enterpeneur to open different types of restaurants, food places where it is needed according to the data collected from search query. It will help people to get suggestions for similar type of food places in case of overcrowding or not availability of there preffered food places. It will help enterprenuers, investers who want to open new food place in deciding what type of food they should offer based on what people want in there city and other questoins."
   ]
  },
  {
   "cell_type": "markdown",
   "metadata": {},
   "source": [
    "## Problem Description"
   ]
  },
  {
   "cell_type": "markdown",
   "metadata": {},
   "source": [
    "A lot of people like to eat at different food places, more than often these food places are crowded or not oppened or out of service of the food they like in big cities. In such situation people want to know what are other good options based on distance, similarity , prices, etc, to serve them the best possible way. So there are few questions that must be addresed, such as :\n",
    "  1. Are there any similar food places?\n",
    "  2. What are the working hours?\n",
    "  3. Are the prices of food similar to the place they want?\n",
    "  4. From the similar plaes Which are the best places?\n",
    "\n",
    "Now for enterprenuers, investers these questions can be answered from the data collected from users.\n",
    "  1. What type of food people like?\n",
    "  2. Is there any shortage of a particular type of Food place?\n",
    "\n",
    "We will be making the model on Bathinda city located in Punjab, India."
   ]
  },
  {
   "cell_type": "markdown",
   "metadata": {},
   "source": [
    "## Target Audience"
   ]
  },
  {
   "cell_type": "markdown",
   "metadata": {},
   "source": [
    "Target audience of this project is all the people who eat at food places. People in cities, travellers, who want to find food places according to there needs. Investers, enterprenuers interested in opening new food places. So the target audience is everyone who eats outside or people who want to start new bussiness or invest in new bussiness related to food."
   ]
  },
  {
   "cell_type": "markdown",
   "metadata": {},
   "source": [
    "## Data Sources"
   ]
  },
  {
   "cell_type": "markdown",
   "metadata": {},
   "source": [
    "To understand and explore we will need the following Data for Bathinda City:\n",
    "\n",
    "1. location of Food places provided by Foursquare api: https://foursquare.com/\n",
    "2. menu, prices, location of food places will be provided by Zomato api: https://developers.zomato.com/api : \n",
    "\n",
    "Using this data will allow exploration and examination to answer the questions. The data from Foursqaure Api will be used for clustering similar types of restaurants. and the menu prices data from zomato api and user reviews from both the api will be used for choosing the best food place alternatives."
   ]
  },
  {
   "cell_type": "code",
   "execution_count": null,
   "metadata": {},
   "outputs": [],
   "source": []
  }
 ],
 "metadata": {
  "kernelspec": {
   "display_name": "Python 3",
   "language": "python",
   "name": "python3"
  },
  "language_info": {
   "codemirror_mode": {
    "name": "ipython",
    "version": 3
   },
   "file_extension": ".py",
   "mimetype": "text/x-python",
   "name": "python",
   "nbconvert_exporter": "python",
   "pygments_lexer": "ipython3",
   "version": "3.7.3"
  }
 },
 "nbformat": 4,
 "nbformat_minor": 4
}
